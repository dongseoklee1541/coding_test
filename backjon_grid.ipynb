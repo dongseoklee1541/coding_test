{
 "cells": [
  {
   "cell_type": "markdown",
   "metadata": {},
   "source": [
    "동전 0\n",
    "\n",
    "* 문제\n",
    "\n",
    "준규가 가지고 있는 동전은 총 N종류이고, 각각의 동전을 매우 많이 가지고 있다.\n",
    "\n",
    "동전을 적절히 사용해서 그 가치의 합을 K로 만들려고 한다. 이때 필요한 동전 개수의 최솟값을 구하는 프로그램을 작성하시오.\n",
    "\n"
   ]
  },
  {
   "cell_type": "markdown",
   "metadata": {},
   "source": [
    "* 입력\n",
    "\n",
    "첫째 줄에 N과 K가 주어진다. (1 ≤ N ≤ 10, 1 ≤ K ≤ 100,000,000)\n",
    "\n",
    "둘째 줄부터 N개의 줄에 동전의 가치 Ai가 오름차순으로 주어진다. (1 ≤ Ai ≤ 1,000,000, A1 = 1, i ≥ 2인 경우에 Ai는 Ai-1의 배수)"
   ]
  },
  {
   "cell_type": "code",
   "execution_count": 8,
   "metadata": {
    "scrolled": true
   },
   "outputs": [
    {
     "name": "stdout",
     "output_type": "stream",
     "text": [
      "10 4200\n",
      "1\n",
      "5\n",
      "10\n",
      "50\n",
      "100\n",
      "500\n",
      "1000\n",
      "5000\n",
      "10000\n",
      "50000\n"
     ]
    }
   ],
   "source": [
    "N, K = map(int, input().split())\n",
    "coins = []\n",
    "\n",
    "# 코인의 개수 받기\n",
    "for n in range(N):\n",
    "    coins.append(int(input()))\n",
    "    \n",
    "coins = sorted(coins, reverse=True)"
   ]
  },
  {
   "cell_type": "code",
   "execution_count": 12,
   "metadata": {},
   "outputs": [
    {
     "data": {
      "text/plain": [
       "4200"
      ]
     },
     "execution_count": 12,
     "metadata": {},
     "output_type": "execute_result"
    }
   ],
   "source": [
    "K % coins[-1]"
   ]
  },
  {
   "cell_type": "code",
   "execution_count": 26,
   "metadata": {},
   "outputs": [],
   "source": [
    "coins = sorted(coins, reverse=True)"
   ]
  },
  {
   "cell_type": "code",
   "execution_count": 30,
   "metadata": {},
   "outputs": [],
   "source": [
    "answer = 0\n",
    "for coin in coins:\n",
    "    answer += K // coin\n",
    "    K %= coin"
   ]
  },
  {
   "cell_type": "code",
   "execution_count": 31,
   "metadata": {},
   "outputs": [
    {
     "data": {
      "text/plain": [
       "6"
      ]
     },
     "execution_count": 31,
     "metadata": {},
     "output_type": "execute_result"
    }
   ],
   "source": [
    "answer"
   ]
  },
  {
   "cell_type": "markdown",
   "metadata": {},
   "source": [
    "회의실 배정\n",
    "\n",
    "* 문제\n",
    "\n",
    "회의 수 : N , 각 회의마다 (시작시간,끝나는 시간)이 input으로\n",
    "\n",
    "1. 회의 시작은 가장 먼저\n",
    "\n",
    "2. 회의 시간은 짧아야 한다.\n",
    "\n",
    "3. 회의시간과 끝나는 시간이 같은 경우는 시작하자마자 끝난다. 즉 회의 시간을 계산"
   ]
  },
  {
   "cell_type": "code",
   "execution_count": 51,
   "metadata": {
    "scrolled": false
   },
   "outputs": [
    {
     "name": "stdout",
     "output_type": "stream",
     "text": [
      "11\n",
      "1 4\n",
      "3 5\n",
      "0 6\n",
      "5 7\n",
      "3 8\n",
      "5 9\n",
      "6 10\n",
      "8 11\n",
      "8 12\n",
      "2 13\n",
      "12 14\n"
     ]
    }
   ],
   "source": [
    "N = int(input())\n",
    "arys = []\n",
    "for _ in range(N):\n",
    "    arys.append(list(map(int,input().split())))"
   ]
  },
  {
   "cell_type": "code",
   "execution_count": 62,
   "metadata": {},
   "outputs": [],
   "source": [
    "# 회의 시간 계산하기\n",
    "for ary in arys:\n",
    "    ary.append(ary[1]-ary[0])"
   ]
  },
  {
   "cell_type": "code",
   "execution_count": 66,
   "metadata": {},
   "outputs": [
    {
     "data": {
      "text/plain": [
       "[[1, 4, 3],\n",
       " [3, 5, 2],\n",
       " [0, 6, 6],\n",
       " [5, 7, 2],\n",
       " [3, 8, 5],\n",
       " [5, 9, 4],\n",
       " [6, 10, 4],\n",
       " [8, 11, 3],\n",
       " [8, 12, 4],\n",
       " [2, 13, 11],\n",
       " [12, 14, 2]]"
      ]
     },
     "execution_count": 66,
     "metadata": {},
     "output_type": "execute_result"
    }
   ],
   "source": [
    "arys # 시작 끝 회의 시간"
   ]
  },
  {
   "cell_type": "code",
   "execution_count": 67,
   "metadata": {},
   "outputs": [
    {
     "data": {
      "text/plain": [
       "[[0, 6, 6],\n",
       " [1, 4, 3],\n",
       " [2, 13, 11],\n",
       " [3, 5, 2],\n",
       " [3, 8, 5],\n",
       " [5, 7, 2],\n",
       " [5, 9, 4],\n",
       " [6, 10, 4],\n",
       " [8, 11, 3],\n",
       " [8, 12, 4],\n",
       " [12, 14, 2]]"
      ]
     },
     "execution_count": 67,
     "metadata": {},
     "output_type": "execute_result"
    }
   ],
   "source": [
    "sorted(arys) # 시작 시간을 기준으로 sorted"
   ]
  },
  {
   "cell_type": "markdown",
   "metadata": {},
   "source": [
    "끝 시간 >= 시작시간 중에서 끝시간-시작시간이 작은 애들"
   ]
  },
  {
   "cell_type": "code",
   "execution_count": 4,
   "metadata": {
    "scrolled": true
   },
   "outputs": [
    {
     "name": "stdout",
     "output_type": "stream",
     "text": [
      "A\n",
      "65\n"
     ]
    }
   ],
   "source": [
    "code = input()\n",
    "print(ord(code))"
   ]
  },
  {
   "cell_type": "code",
   "execution_count": 20,
   "metadata": {
    "scrolled": true
   },
   "outputs": [
    {
     "name": "stdout",
     "output_type": "stream",
     "text": [
      "baekjoon\n"
     ]
    }
   ],
   "source": [
    "S = input()"
   ]
  },
  {
   "cell_type": "code",
   "execution_count": 21,
   "metadata": {
    "scrolled": false
   },
   "outputs": [
    {
     "name": "stdout",
     "output_type": "stream",
     "text": [
      "b\n",
      "a\n",
      "e\n",
      "k\n",
      "j\n",
      "o\n",
      "o\n",
      "n\n"
     ]
    }
   ],
   "source": [
    "for s in S:\n",
    "    print(s)"
   ]
  },
  {
   "cell_type": "code",
   "execution_count": 26,
   "metadata": {},
   "outputs": [
    {
     "data": {
      "text/plain": [
       "7"
      ]
     },
     "execution_count": 26,
     "metadata": {},
     "output_type": "execute_result"
    }
   ],
   "source": [
    "list(S).index('n')"
   ]
  },
  {
   "cell_type": "code",
   "execution_count": 2,
   "metadata": {},
   "outputs": [],
   "source": [
    "alpha_list = [-1] * len(alphabet)"
   ]
  },
  {
   "cell_type": "code",
   "execution_count": 18,
   "metadata": {
    "scrolled": true
   },
   "outputs": [],
   "source": [
    "from collections import Counter\n",
    "alpha = Counter(alphabet)"
   ]
  },
  {
   "cell_type": "code",
   "execution_count": 1,
   "metadata": {
    "scrolled": false
   },
   "outputs": [
    {
     "data": {
      "text/plain": [
       "['The', 'Curious', 'Case', 'of', 'Benjamin', 'Button']"
      ]
     },
     "execution_count": 1,
     "metadata": {},
     "output_type": "execute_result"
    }
   ],
   "source": [
    "count = input().split()\n",
    "print(len(count))"
   ]
  },
  {
   "cell_type": "code",
   "execution_count": 102,
   "metadata": {},
   "outputs": [
    {
     "data": {
      "text/plain": [
       "'b'"
      ]
     },
     "execution_count": 102,
     "metadata": {},
     "output_type": "execute_result"
    }
   ],
   "source": [
    "S[0]"
   ]
  },
  {
   "cell_type": "code",
   "execution_count": 93,
   "metadata": {},
   "outputs": [],
   "source": [
    "words = input().upper()\n",
    "unique_words = list(set(words)) \n",
    "cnt_list = []\n",
    "for i in unique_words:\n",
    "    cnt = words.count(i)\n",
    "    cnt_list.append(cnt)\n",
    "    \n",
    "if cnt_list.count(max(cnt_list)) > 1:\n",
    "    print(\"?\")\n",
    "else:\n",
    "    print(unique_words[cnt_list.index(max(cnt_list))])"
   ]
  },
  {
   "cell_type": "code",
   "execution_count": 97,
   "metadata": {},
   "outputs": [
    {
     "data": {
      "text/plain": [
       "0"
      ]
     },
     "execution_count": 97,
     "metadata": {},
     "output_type": "execute_result"
    }
   ],
   "source": [
    "cnt_list.index(max(cnt_list))"
   ]
  },
  {
   "cell_type": "code",
   "execution_count": 24,
   "metadata": {},
   "outputs": [
    {
     "name": "stdout",
     "output_type": "stream",
     "text": [
      "WA\n"
     ]
    }
   ],
   "source": [
    "S = input()\n",
    "\n",
    "dias ={3:['A','B','C'], \n",
    "      4:['D','E','F'],\n",
    "      5:['G','H','I'],\n",
    "      6:['J','K','L'],\n",
    "      7:['M','N','O'],\n",
    "      8:['P','Q','R','S'],\n",
    "      9:['T','U','V'],\n",
    "      10:['W','X','Y','Z']\n",
    "     }\n",
    "result = 0\n",
    "for s in S:\n",
    "    for dia in dias:\n",
    "        if s in dias[dia]:\n",
    "            result += dia\n",
    "            \n",
    "print(result)"
   ]
  },
  {
   "cell_type": "code",
   "execution_count": 41,
   "metadata": {},
   "outputs": [
    {
     "name": "stdout",
     "output_type": "stream",
     "text": [
      "ddz=z=\n"
     ]
    }
   ],
   "source": [
    "S = input()\n",
    "croa_ap = [\"c=\",\"c-\",\"dz=\",\"d-\",\"s=\",\"z=\",\"lj\",\"nj\"]\n",
    "\n",
    "result = 0\n",
    "for ap in croa_ap:\n",
    "    if ap in S:\n",
    "        S = S.replace(ap,'!')\n",
    "        \n",
    "print(len(S))"
   ]
  },
  {
   "cell_type": "code",
   "execution_count": 48,
   "metadata": {},
   "outputs": [
    {
     "name": "stdout",
     "output_type": "stream",
     "text": [
      "2\n",
      "yzyzyz\n",
      "y\n",
      "z\n",
      "y\n",
      "z\n",
      "y\n",
      "z\n",
      "zdzdz\n",
      "z\n",
      "d\n",
      "z\n",
      "d\n",
      "z\n"
     ]
    }
   ],
   "source": [
    "count = int(input())\n",
    "group_word = 0\n",
    "word_lists = ''\n",
    "unique_lists = []\n",
    "for _ in range(count):\n",
    "    word_lists = input()\n",
    "    unique_lists = list(set(word_lists))\n",
    "    for i in range(len(word_lists)):\n",
    "        if word_lists[i] == word_lists[i+1]:\n",
    "            pass\n",
    "        \n",
    "        "
   ]
  },
  {
   "cell_type": "markdown",
   "metadata": {},
   "source": [
    "A + (B*n) - (C*n) < 0 일때"
   ]
  },
  {
   "cell_type": "code",
   "execution_count": 11,
   "metadata": {
    "scrolled": true
   },
   "outputs": [
    {
     "name": "stdout",
     "output_type": "stream",
     "text": [
      "3 2 1\n"
     ]
    }
   ],
   "source": [
    "A, B , C = map(int,input().split())\n",
    "if C>B: print(A//(C-B) + 1)\n",
    "else: print(-1)"
   ]
  },
  {
   "cell_type": "code",
   "execution_count": 26,
   "metadata": {
    "scrolled": true
   },
   "outputs": [
    {
     "name": "stdout",
     "output_type": "stream",
     "text": [
      "5 1 6\n",
      "2\n"
     ]
    }
   ],
   "source": [
    "A, B, V = map(int,input().split())\n",
    "d = 1\n",
    "n = 0\n",
    "if A > V:\n",
    "    print(1)\n",
    "else:\n",
    "    print(ceil((V-A)/(A-B))+1)"
   ]
  },
  {
   "cell_type": "code",
   "execution_count": 28,
   "metadata": {
    "scrolled": true
   },
   "outputs": [
    {
     "name": "stdout",
     "output_type": "stream",
     "text": [
      "2\n",
      "1\n",
      "3\n",
      "2\n",
      "3\n"
     ]
    }
   ],
   "source": [
    "T = int(input())\n",
    "k = 0\n",
    "n = 0\n",
    "for _ in range(T):\n",
    "    k = int(input())\n",
    "    n = int(input())"
   ]
  },
  {
   "cell_type": "code",
   "execution_count": 42,
   "metadata": {
    "scrolled": true
   },
   "outputs": [
    {
     "name": "stdout",
     "output_type": "stream",
     "text": [
      "3 7 9\n"
     ]
    },
    {
     "ename": "AttributeError",
     "evalue": "module 'math' has no attribute 'lcm'",
     "output_type": "error",
     "traceback": [
      "\u001b[1;31m---------------------------------------------------------------------------\u001b[0m",
      "\u001b[1;31mAttributeError\u001b[0m                            Traceback (most recent call last)",
      "\u001b[1;32m<ipython-input-42-d3aed14a4b63>\u001b[0m in \u001b[0;36m<module>\u001b[1;34m\u001b[0m\n\u001b[0;32m      2\u001b[0m \u001b[0ma\u001b[0m\u001b[1;33m,\u001b[0m\u001b[0mb\u001b[0m\u001b[1;33m,\u001b[0m\u001b[0mc\u001b[0m \u001b[1;33m=\u001b[0m \u001b[0mmap\u001b[0m\u001b[1;33m(\u001b[0m\u001b[0mint\u001b[0m\u001b[1;33m,\u001b[0m\u001b[0minput\u001b[0m\u001b[1;33m(\u001b[0m\u001b[1;33m)\u001b[0m\u001b[1;33m.\u001b[0m\u001b[0msplit\u001b[0m\u001b[1;33m(\u001b[0m\u001b[1;33m)\u001b[0m\u001b[1;33m)\u001b[0m\u001b[1;33m\u001b[0m\u001b[1;33m\u001b[0m\u001b[0m\n\u001b[0;32m      3\u001b[0m \u001b[1;33m\u001b[0m\u001b[0m\n\u001b[1;32m----> 4\u001b[1;33m \u001b[0mmath\u001b[0m\u001b[1;33m.\u001b[0m\u001b[0mlcm\u001b[0m\u001b[1;33m(\u001b[0m\u001b[0ma\u001b[0m\u001b[1;33m,\u001b[0m\u001b[0mb\u001b[0m\u001b[1;33m,\u001b[0m\u001b[0mc\u001b[0m\u001b[1;33m)\u001b[0m\u001b[1;33m\u001b[0m\u001b[1;33m\u001b[0m\u001b[0m\n\u001b[0m",
      "\u001b[1;31mAttributeError\u001b[0m: module 'math' has no attribute 'lcm'"
     ]
    }
   ],
   "source": [
    "import math\n",
    "def lcm(a,b,c):\n",
    "    temp = math.gd\n",
    "a,b,c = map(int,input().split())\n",
    "\n",
    "math.lcm(a,b,c)"
   ]
  },
  {
   "cell_type": "markdown",
   "metadata": {},
   "source": [
    "그룹 단어"
   ]
  },
  {
   "cell_type": "code",
   "execution_count": null,
   "metadata": {},
   "outputs": [],
   "source": [
    "N = int(input())\n",
    "\n",
    "for _ in range(N):\n",
    "    word_lists = list(input())\n",
    "    sets_lists = list(set(word_lists)) \n",
    "    \n",
    "    # 단어가 한글자일때는 pass\n",
    "    if len(word_lists)==1:\n",
    "        continue\n",
    "    for i in range(len(word_lists)):\n",
    "        if i == len(word_lists)-1 and len(sets_lists) == 0:\n",
    "        # 마지막 단어까지 오고 sets_lists가 비었다면\n",
    "            break\n",
    "    \n",
    "        if word_lists[i] == word_lists[i+1]: # 연속된 단어면 pass\n",
    "            pass\n",
    "        else: # 연속된 단어가 아니라면\n",
    "            if word_lists[i+1] in sets_lists: # sets_lists에 있으면\n",
    "                sets_lists.remove(word_lists[i+1]) # sets_lists에 제거\n",
    "            elif word_lists[i+1] not in sets_lists:\n",
    "                n -= 1 # 그룹단어가 아님\n",
    "    \n",
    "print(N)"
   ]
  },
  {
   "cell_type": "code",
   "execution_count": null,
   "metadata": {},
   "outputs": [],
   "source": [
    "N = int(input())\n",
    "\n",
    "word = ''\n",
    "group_word = 0\n",
    "for _ in range(N):\n",
    "    word = input()\n",
    "    error = 0\n",
    "    for index in range(len(word)-1):\n",
    "        if word[index] != word[index+1]: # 다음 단어랑 같지 않으면\n",
    "            new_word = word[index+1:] # 다른 경우 체크\n",
    "            if new_word.count(word[index]) > 0 : # 뒤에 있니?\n",
    "                error -=1 # 있으면 체크\n",
    "    if error == 0: # 틀린게 없다면\n",
    "        group_word +=1\n",
    "                \n",
    "print(group_word)"
   ]
  },
  {
   "cell_type": "markdown",
   "metadata": {},
   "source": [
    "블랙잭"
   ]
  },
  {
   "cell_type": "code",
   "execution_count": 25,
   "metadata": {},
   "outputs": [
    {
     "name": "stdout",
     "output_type": "stream",
     "text": [
      "10 500\n",
      "93 181 245 214 315 36 185 138 216 295\n",
      "497\n"
     ]
    }
   ],
   "source": [
    "N, M = map(int,input().split())\n",
    "cards = sorted(list(map(int,input().split())),reverse=True)\n",
    "result = 0\n",
    "\n",
    "result_list = []\n",
    "for i in range(len(cards)-2):\n",
    "    for j in range(i+1,len(cards)-1):\n",
    "        for k in range(j+1,len(cards)):\n",
    "            result = cards[i]+cards[j]+cards[k]\n",
    "            if result <= M:\n",
    "                result_list.append(result)\n",
    "                \n",
    "print(max(result_list))"
   ]
  },
  {
   "cell_type": "code",
   "execution_count": 26,
   "metadata": {
    "scrolled": true
   },
   "outputs": [
    {
     "name": "stdout",
     "output_type": "stream",
     "text": [
      "216\n"
     ]
    }
   ],
   "source": [
    "N = int(input())"
   ]
  },
  {
   "cell_type": "code",
   "execution_count": 32,
   "metadata": {},
   "outputs": [],
   "source": [
    "bak = N // 100"
   ]
  },
  {
   "cell_type": "code",
   "execution_count": 28,
   "metadata": {},
   "outputs": [],
   "source": [
    "ten = N % 100 // 10"
   ]
  },
  {
   "cell_type": "code",
   "execution_count": 30,
   "metadata": {},
   "outputs": [],
   "source": [
    "one = N %10"
   ]
  },
  {
   "cell_type": "markdown",
   "metadata": {},
   "source": [
    "N = M + bak + ten + one (M은 N의 분해합)"
   ]
  },
  {
   "cell_type": "code",
   "execution_count": 38,
   "metadata": {},
   "outputs": [
    {
     "name": "stdout",
     "output_type": "stream",
     "text": [
      "1 0 8\n",
      "216\n"
     ]
    }
   ],
   "source": [
    "result_list = []\n",
    "\n",
    "for i in range(bak):\n",
    "    for j in range(10):\n",
    "        for k in range(10):\n",
    "            result = int(str(i)+str(j)+str(k)) + (i*100) + (j*10) + k\n",
    "            if N == result:\n",
    "                result_list.append(result)\n",
    "                \n",
    "print(min(result_list))"
   ]
  },
  {
   "cell_type": "markdown",
   "metadata": {},
   "source": [
    "더하기 사이클"
   ]
  },
  {
   "cell_type": "code",
   "execution_count": 22,
   "metadata": {
    "scrolled": true
   },
   "outputs": [
    {
     "name": "stdout",
     "output_type": "stream",
     "text": [
      "0\n",
      "1\n"
     ]
    }
   ],
   "source": [
    "N = input()\n",
    "\n",
    "A = N\n",
    "count = 0\n",
    "while True:\n",
    "    if A=='0':\n",
    "        count +=1\n",
    "        break\n",
    "    count += 1\n",
    "    if len(A)==1:\n",
    "        N = '0' + N\n",
    "    \n",
    "    ten = int(A) //10 # 10의 자리\n",
    "    one = int(A) % 10 # 1의 자리\n",
    "    new_N = str(ten + one)\n",
    "    if len(new_N)==2: # 합이 두자리\n",
    "        A = str(one) + new_N[1]\n",
    "    else: # 합이 한자리\n",
    "        A = str(one) + str(new_N)\n",
    "    \n",
    "    if A == N:\n",
    "        break\n",
    "        \n",
    "print(count)"
   ]
  },
  {
   "cell_type": "code",
   "execution_count": 4,
   "metadata": {},
   "outputs": [
    {
     "data": {
      "text/plain": [
       "2"
      ]
     },
     "execution_count": 4,
     "metadata": {},
     "output_type": "execute_result"
    }
   ],
   "source": [
    "len('26')"
   ]
  },
  {
   "cell_type": "code",
   "execution_count": 5,
   "metadata": {},
   "outputs": [
    {
     "data": {
      "text/plain": [
       "2"
      ]
     },
     "execution_count": 5,
     "metadata": {},
     "output_type": "execute_result"
    }
   ],
   "source": [
    "26 // 10"
   ]
  },
  {
   "cell_type": "code",
   "execution_count": 6,
   "metadata": {},
   "outputs": [
    {
     "data": {
      "text/plain": [
       "6"
      ]
     },
     "execution_count": 6,
     "metadata": {},
     "output_type": "execute_result"
    }
   ],
   "source": [
    "26 % 10"
   ]
  },
  {
   "cell_type": "code",
   "execution_count": null,
   "metadata": {},
   "outputs": [],
   "source": []
  }
 ],
 "metadata": {
  "kernelspec": {
   "display_name": "Python 3",
   "language": "python",
   "name": "python3"
  },
  "language_info": {
   "codemirror_mode": {
    "name": "ipython",
    "version": 3
   },
   "file_extension": ".py",
   "mimetype": "text/x-python",
   "name": "python",
   "nbconvert_exporter": "python",
   "pygments_lexer": "ipython3",
   "version": "3.7.6"
  }
 },
 "nbformat": 4,
 "nbformat_minor": 4
}
